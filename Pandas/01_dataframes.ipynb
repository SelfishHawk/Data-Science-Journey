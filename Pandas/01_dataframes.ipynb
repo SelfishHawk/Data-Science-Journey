{
 "cells": [
  {
   "cell_type": "code",
   "execution_count": 2,
   "id": "2043e95c",
   "metadata": {},
   "outputs": [
    {
     "name": "stdout",
     "output_type": "stream",
     "text": [
      "     Name  Age   Salary  Department Level of Management\n",
      "0    John   22    25000  Production                 Low\n",
      "1    lisa   23    45000  Production              Middle\n",
      "2  Andrew   99  9999999       Sales                 Top\n"
     ]
    }
   ],
   "source": [
    "import pandas as pd\n",
    "data={\n",
    "    \"Name\":[\"John\",\"lisa\",\"Andrew\"],\n",
    "    \"Age\":[22,23,99],\n",
    "    \"Salary\":[25000,45000,9999999],\n",
    "    \"Department\":[\"Production\",\"Production\",\"Sales\"],\n",
    "    \"Level of Management\": [\"Low\",\"Middle\",\"Top\"]\n",
    "    \n",
    "}\n",
    "df=pd.DataFrame(data)\n",
    "print(df)"
   ]
  },
  {
   "cell_type": "code",
   "execution_count": 3,
   "id": "9ba86ac3-266b-4662-9617-8a11aadeac75",
   "metadata": {},
   "outputs": [
    {
     "name": "stdout",
     "output_type": "stream",
     "text": [
      "               hotel  is_canceled  lead_time  arrival_date_year  \\\n",
      "0       Resort Hotel            0        342               2015   \n",
      "1       Resort Hotel            0        737               2015   \n",
      "2       Resort Hotel            0          7               2015   \n",
      "3       Resort Hotel            0         13               2015   \n",
      "4       Resort Hotel            0         14               2015   \n",
      "...              ...          ...        ...                ...   \n",
      "119385    City Hotel            0         23               2017   \n",
      "119386    City Hotel            0        102               2017   \n",
      "119387    City Hotel            0         34               2017   \n",
      "119388    City Hotel            0        109               2017   \n",
      "119389    City Hotel            0        205               2017   \n",
      "\n",
      "       arrival_date_month  arrival_date_week_number  \\\n",
      "0                    July                        27   \n",
      "1                    July                        27   \n",
      "2                    July                        27   \n",
      "3                    July                        27   \n",
      "4                    July                        27   \n",
      "...                   ...                       ...   \n",
      "119385             August                        35   \n",
      "119386             August                        35   \n",
      "119387             August                        35   \n",
      "119388             August                        35   \n",
      "119389             August                        35   \n",
      "\n",
      "        arrival_date_day_of_month  stays_in_weekend_nights  \\\n",
      "0                               1                        0   \n",
      "1                               1                        0   \n",
      "2                               1                        0   \n",
      "3                               1                        0   \n",
      "4                               1                        0   \n",
      "...                           ...                      ...   \n",
      "119385                         30                        2   \n",
      "119386                         31                        2   \n",
      "119387                         31                        2   \n",
      "119388                         31                        2   \n",
      "119389                         29                        2   \n",
      "\n",
      "        stays_in_week_nights  adults  ...  customer_type     adr  \\\n",
      "0                          0       2  ...      Transient    0.00   \n",
      "1                          0       2  ...      Transient    0.00   \n",
      "2                          1       1  ...      Transient   75.00   \n",
      "3                          1       1  ...      Transient   75.00   \n",
      "4                          2       2  ...      Transient   98.00   \n",
      "...                      ...     ...  ...            ...     ...   \n",
      "119385                     5       2  ...      Transient   96.14   \n",
      "119386                     5       3  ...      Transient  225.43   \n",
      "119387                     5       2  ...      Transient  157.71   \n",
      "119388                     5       2  ...      Transient  104.40   \n",
      "119389                     7       2  ...      Transient  151.20   \n",
      "\n",
      "       required_car_parking_spaces total_of_special_requests  \\\n",
      "0                                0                         0   \n",
      "1                                0                         0   \n",
      "2                                0                         0   \n",
      "3                                0                         0   \n",
      "4                                0                         1   \n",
      "...                            ...                       ...   \n",
      "119385                           0                         0   \n",
      "119386                           0                         2   \n",
      "119387                           0                         4   \n",
      "119388                           0                         0   \n",
      "119389                           0                         2   \n",
      "\n",
      "       reservation_status reservation_status_date                name  \\\n",
      "0               Check-Out              2015-07-01       Ernest Barnes   \n",
      "1               Check-Out              2015-07-01        Andrea Baker   \n",
      "2               Check-Out              2015-07-02      Rebecca Parker   \n",
      "3               Check-Out              2015-07-02        Laura Murray   \n",
      "4               Check-Out              2015-07-03         Linda Hines   \n",
      "...                   ...                     ...                 ...   \n",
      "119385          Check-Out              2017-09-06     Claudia Johnson   \n",
      "119386          Check-Out              2017-09-07      Wesley Aguilar   \n",
      "119387          Check-Out              2017-09-07        Mary Morales   \n",
      "119388          Check-Out              2017-09-07  Caroline Conley MD   \n",
      "119389          Check-Out              2017-09-07      Ariana Michael   \n",
      "\n",
      "                              email  phone-number       credit_card  \n",
      "0       Ernest.Barnes31@outlook.com  669-792-1661  ************4322  \n",
      "1            Andrea_Baker94@aol.com  858-637-6955  ************9157  \n",
      "2        Rebecca_Parker@comcast.net  652-885-2745  ************3734  \n",
      "3                 Laura_M@gmail.com  364-656-8427  ************5677  \n",
      "4                LHines@verizon.com  713-226-5883  ************5498  \n",
      "...                             ...           ...               ...  \n",
      "119385          Claudia.J@yahoo.com  403-092-5582  ************8647  \n",
      "119386         WAguilar@xfinity.com  238-763-0612  ************4333  \n",
      "119387     Mary_Morales@hotmail.com  395-518-4100  ************1821  \n",
      "119388      MD_Caroline@comcast.net  531-528-1017  ************7860  \n",
      "119389         Ariana_M@xfinity.com  422-804-6403  ************4482  \n",
      "\n",
      "[119390 rows x 36 columns]\n"
     ]
    }
   ],
   "source": [
    "data=pd.read_csv(\"C:/Users/Lenovo/Downloads/hotel_booking.csv/hotel_booking.csv\")\n",
    "print(data)"
   ]
  },
  {
   "cell_type": "code",
   "execution_count": 4,
   "id": "9e07d5af-9a2a-4e67-880c-1a6ec9e6cecd",
   "metadata": {},
   "outputs": [
    {
     "name": "stdout",
     "output_type": "stream",
     "text": [
      "               hotel  is_canceled  arrival_date_year arrival_date_month  \\\n",
      "0       Resort Hotel            0               2015               July   \n",
      "1       Resort Hotel            0               2015               July   \n",
      "2       Resort Hotel            0               2015               July   \n",
      "3       Resort Hotel            0               2015               July   \n",
      "4       Resort Hotel            0               2015               July   \n",
      "...              ...          ...                ...                ...   \n",
      "119385    City Hotel            0               2017             August   \n",
      "119386    City Hotel            0               2017             August   \n",
      "119387    City Hotel            0               2017             August   \n",
      "119388    City Hotel            0               2017             August   \n",
      "119389    City Hotel            0               2017             August   \n",
      "\n",
      "        arrival_date_day_of_month  adults  children  babies country  \\\n",
      "0                               1       2       0.0       0     PRT   \n",
      "1                               1       2       0.0       0     PRT   \n",
      "2                               1       1       0.0       0     GBR   \n",
      "3                               1       1       0.0       0     GBR   \n",
      "4                               1       2       0.0       0     GBR   \n",
      "...                           ...     ...       ...     ...     ...   \n",
      "119385                         30       2       0.0       0     BEL   \n",
      "119386                         31       3       0.0       0     FRA   \n",
      "119387                         31       2       0.0       0     DEU   \n",
      "119388                         31       2       0.0       0     GBR   \n",
      "119389                         29       2       0.0       0     DEU   \n",
      "\n",
      "       reserved_room_type assigned_room_type reservation_status  \\\n",
      "0                       C                  C          Check-Out   \n",
      "1                       C                  C          Check-Out   \n",
      "2                       A                  C          Check-Out   \n",
      "3                       A                  A          Check-Out   \n",
      "4                       A                  A          Check-Out   \n",
      "...                   ...                ...                ...   \n",
      "119385                  A                  A          Check-Out   \n",
      "119386                  E                  E          Check-Out   \n",
      "119387                  D                  D          Check-Out   \n",
      "119388                  A                  A          Check-Out   \n",
      "119389                  A                  A          Check-Out   \n",
      "\n",
      "       reservation_status_date Room_Status guest_type  \n",
      "0                   2015-07-01     Desired    Couples  \n",
      "1                   2015-07-01     Desired    Couples  \n",
      "2                   2015-07-02   Undesired    Singles  \n",
      "3                   2015-07-02     Desired    Singles  \n",
      "4                   2015-07-03     Desired    Couples  \n",
      "...                        ...         ...        ...  \n",
      "119385              2017-09-06     Desired    Couples  \n",
      "119386              2017-09-07     Desired     Family  \n",
      "119387              2017-09-07     Desired    Couples  \n",
      "119388              2017-09-07     Desired    Couples  \n",
      "119389              2017-09-07     Desired    Couples  \n",
      "\n",
      "[119390 rows x 15 columns]\n"
     ]
    }
   ],
   "source": [
    "data=pd.read_excel(\"C:/Users/Lenovo/OneDrive/Documents/Hotel-Booking-Cancellation/Hotel-Booking-Cancellation.xlsx\")\n",
    "print(data)"
   ]
  },
  {
   "cell_type": "code",
   "execution_count": 5,
   "id": "8c67bbbc-e488-433e-90c4-b279e38da57b",
   "metadata": {},
   "outputs": [
    {
     "name": "stdout",
     "output_type": "stream",
     "text": [
      "          hotel  is_canceled  arrival_date_year arrival_date_month  \\\n",
      "0  Resort Hotel            0               2015               July   \n",
      "1  Resort Hotel            0               2015               July   \n",
      "2  Resort Hotel            0               2015               July   \n",
      "3  Resort Hotel            0               2015               July   \n",
      "4  Resort Hotel            0               2015               July   \n",
      "5  Resort Hotel            0               2015               July   \n",
      "6  Resort Hotel            0               2015               July   \n",
      "7  Resort Hotel            0               2015               July   \n",
      "8  Resort Hotel            1               2015               July   \n",
      "9  Resort Hotel            1               2015               July   \n",
      "\n",
      "   arrival_date_day_of_month  adults  children  babies country  \\\n",
      "0                          1       2       0.0       0     PRT   \n",
      "1                          1       2       0.0       0     PRT   \n",
      "2                          1       1       0.0       0     GBR   \n",
      "3                          1       1       0.0       0     GBR   \n",
      "4                          1       2       0.0       0     GBR   \n",
      "5                          1       2       0.0       0     GBR   \n",
      "6                          1       2       0.0       0     PRT   \n",
      "7                          1       2       0.0       0     PRT   \n",
      "8                          1       2       0.0       0     PRT   \n",
      "9                          1       2       0.0       0     PRT   \n",
      "\n",
      "  reserved_room_type assigned_room_type reservation_status  \\\n",
      "0                  C                  C          Check-Out   \n",
      "1                  C                  C          Check-Out   \n",
      "2                  A                  C          Check-Out   \n",
      "3                  A                  A          Check-Out   \n",
      "4                  A                  A          Check-Out   \n",
      "5                  A                  A          Check-Out   \n",
      "6                  C                  C          Check-Out   \n",
      "7                  C                  C          Check-Out   \n",
      "8                  A                  A           Canceled   \n",
      "9                  D                  D           Canceled   \n",
      "\n",
      "  reservation_status_date Room_Status guest_type  \n",
      "0              2015-07-01     Desired    Couples  \n",
      "1              2015-07-01     Desired    Couples  \n",
      "2              2015-07-02   Undesired    Singles  \n",
      "3              2015-07-02     Desired    Singles  \n",
      "4              2015-07-03     Desired    Couples  \n",
      "5              2015-07-03     Desired    Couples  \n",
      "6              2015-07-03     Desired    Couples  \n",
      "7              2015-07-03     Desired    Couples  \n",
      "8              2015-05-06     Desired    Couples  \n",
      "9              2015-04-22     Desired    Couples  \n",
      "             hotel  is_canceled  arrival_date_year arrival_date_month  \\\n",
      "119380  City Hotel            0               2017             August   \n",
      "119381  City Hotel            0               2017             August   \n",
      "119382  City Hotel            0               2017             August   \n",
      "119383  City Hotel            0               2017             August   \n",
      "119384  City Hotel            0               2017             August   \n",
      "119385  City Hotel            0               2017             August   \n",
      "119386  City Hotel            0               2017             August   \n",
      "119387  City Hotel            0               2017             August   \n",
      "119388  City Hotel            0               2017             August   \n",
      "119389  City Hotel            0               2017             August   \n",
      "\n",
      "        arrival_date_day_of_month  adults  children  babies country  \\\n",
      "119380                         31       2       0.0       0     DEU   \n",
      "119381                         31       2       0.0       0     DEU   \n",
      "119382                         30       3       0.0       0     JPN   \n",
      "119383                         31       2       0.0       0     DEU   \n",
      "119384                         30       2       0.0       0     BEL   \n",
      "119385                         30       2       0.0       0     BEL   \n",
      "119386                         31       3       0.0       0     FRA   \n",
      "119387                         31       2       0.0       0     DEU   \n",
      "119388                         31       2       0.0       0     GBR   \n",
      "119389                         29       2       0.0       0     DEU   \n",
      "\n",
      "       reserved_room_type assigned_room_type reservation_status  \\\n",
      "119380                  A                  A          Check-Out   \n",
      "119381                  A                  A          Check-Out   \n",
      "119382                  G                  G          Check-Out   \n",
      "119383                  A                  A          Check-Out   \n",
      "119384                  A                  A          Check-Out   \n",
      "119385                  A                  A          Check-Out   \n",
      "119386                  E                  E          Check-Out   \n",
      "119387                  D                  D          Check-Out   \n",
      "119388                  A                  A          Check-Out   \n",
      "119389                  A                  A          Check-Out   \n",
      "\n",
      "       reservation_status_date Room_Status guest_type  \n",
      "119380              2017-09-04     Desired    Couples  \n",
      "119381              2017-09-05     Desired    Couples  \n",
      "119382              2017-09-05     Desired     Family  \n",
      "119383              2017-09-06     Desired    Couples  \n",
      "119384              2017-09-06     Desired    Couples  \n",
      "119385              2017-09-06     Desired    Couples  \n",
      "119386              2017-09-07     Desired     Family  \n",
      "119387              2017-09-07     Desired    Couples  \n",
      "119388              2017-09-07     Desired    Couples  \n",
      "119389              2017-09-07     Desired    Couples  \n",
      "<class 'pandas.core.frame.DataFrame'>\n",
      "RangeIndex: 119390 entries, 0 to 119389\n",
      "Data columns (total 15 columns):\n",
      " #   Column                     Non-Null Count   Dtype         \n",
      "---  ------                     --------------   -----         \n",
      " 0   hotel                      119390 non-null  object        \n",
      " 1   is_canceled                119390 non-null  int64         \n",
      " 2   arrival_date_year          119390 non-null  int64         \n",
      " 3   arrival_date_month         119390 non-null  object        \n",
      " 4   arrival_date_day_of_month  119390 non-null  int64         \n",
      " 5   adults                     119390 non-null  int64         \n",
      " 6   children                   119386 non-null  float64       \n",
      " 7   babies                     119390 non-null  int64         \n",
      " 8   country                    118902 non-null  object        \n",
      " 9   reserved_room_type         119390 non-null  object        \n",
      " 10  assigned_room_type         119390 non-null  object        \n",
      " 11  reservation_status         119390 non-null  object        \n",
      " 12  reservation_status_date    119390 non-null  datetime64[ns]\n",
      " 13  Room_Status                119390 non-null  object        \n",
      " 14  guest_type                 119390 non-null  object        \n",
      "dtypes: datetime64[ns](1), float64(1), int64(5), object(8)\n",
      "memory usage: 13.7+ MB\n",
      "None\n"
     ]
    }
   ],
   "source": [
    "print(data.head(10))\n",
    "print(data.tail(10))\n",
    "print(data.info())"
   ]
  },
  {
   "cell_type": "code",
   "execution_count": 6,
   "id": "1799182c-b1c1-43e0-9adf-53802d12d002",
   "metadata": {},
   "outputs": [
    {
     "data": {
      "text/html": [
       "<div>\n",
       "<style scoped>\n",
       "    .dataframe tbody tr th:only-of-type {\n",
       "        vertical-align: middle;\n",
       "    }\n",
       "\n",
       "    .dataframe tbody tr th {\n",
       "        vertical-align: top;\n",
       "    }\n",
       "\n",
       "    .dataframe thead th {\n",
       "        text-align: right;\n",
       "    }\n",
       "</style>\n",
       "<table border=\"1\" class=\"dataframe\">\n",
       "  <thead>\n",
       "    <tr style=\"text-align: right;\">\n",
       "      <th></th>\n",
       "      <th>is_canceled</th>\n",
       "      <th>arrival_date_year</th>\n",
       "      <th>arrival_date_day_of_month</th>\n",
       "      <th>adults</th>\n",
       "      <th>children</th>\n",
       "      <th>babies</th>\n",
       "      <th>reservation_status_date</th>\n",
       "    </tr>\n",
       "  </thead>\n",
       "  <tbody>\n",
       "    <tr>\n",
       "      <th>count</th>\n",
       "      <td>119390.000000</td>\n",
       "      <td>119390.000000</td>\n",
       "      <td>119390.000000</td>\n",
       "      <td>119390.000000</td>\n",
       "      <td>119386.000000</td>\n",
       "      <td>119390.000000</td>\n",
       "      <td>119390</td>\n",
       "    </tr>\n",
       "    <tr>\n",
       "      <th>mean</th>\n",
       "      <td>0.370416</td>\n",
       "      <td>2016.156554</td>\n",
       "      <td>15.798241</td>\n",
       "      <td>1.856403</td>\n",
       "      <td>0.103890</td>\n",
       "      <td>0.007949</td>\n",
       "      <td>2016-07-30 00:24:47.883407104</td>\n",
       "    </tr>\n",
       "    <tr>\n",
       "      <th>min</th>\n",
       "      <td>0.000000</td>\n",
       "      <td>2015.000000</td>\n",
       "      <td>1.000000</td>\n",
       "      <td>0.000000</td>\n",
       "      <td>0.000000</td>\n",
       "      <td>0.000000</td>\n",
       "      <td>2014-10-17 00:00:00</td>\n",
       "    </tr>\n",
       "    <tr>\n",
       "      <th>25%</th>\n",
       "      <td>0.000000</td>\n",
       "      <td>2016.000000</td>\n",
       "      <td>8.000000</td>\n",
       "      <td>2.000000</td>\n",
       "      <td>0.000000</td>\n",
       "      <td>0.000000</td>\n",
       "      <td>2016-02-01 00:00:00</td>\n",
       "    </tr>\n",
       "    <tr>\n",
       "      <th>50%</th>\n",
       "      <td>0.000000</td>\n",
       "      <td>2016.000000</td>\n",
       "      <td>16.000000</td>\n",
       "      <td>2.000000</td>\n",
       "      <td>0.000000</td>\n",
       "      <td>0.000000</td>\n",
       "      <td>2016-08-07 00:00:00</td>\n",
       "    </tr>\n",
       "    <tr>\n",
       "      <th>75%</th>\n",
       "      <td>1.000000</td>\n",
       "      <td>2017.000000</td>\n",
       "      <td>23.000000</td>\n",
       "      <td>2.000000</td>\n",
       "      <td>0.000000</td>\n",
       "      <td>0.000000</td>\n",
       "      <td>2017-02-08 00:00:00</td>\n",
       "    </tr>\n",
       "    <tr>\n",
       "      <th>max</th>\n",
       "      <td>1.000000</td>\n",
       "      <td>2017.000000</td>\n",
       "      <td>31.000000</td>\n",
       "      <td>55.000000</td>\n",
       "      <td>10.000000</td>\n",
       "      <td>10.000000</td>\n",
       "      <td>2017-09-14 00:00:00</td>\n",
       "    </tr>\n",
       "    <tr>\n",
       "      <th>std</th>\n",
       "      <td>0.482918</td>\n",
       "      <td>0.707476</td>\n",
       "      <td>8.780829</td>\n",
       "      <td>0.579261</td>\n",
       "      <td>0.398561</td>\n",
       "      <td>0.097436</td>\n",
       "      <td>NaN</td>\n",
       "    </tr>\n",
       "  </tbody>\n",
       "</table>\n",
       "</div>"
      ],
      "text/plain": [
       "         is_canceled  arrival_date_year  arrival_date_day_of_month  \\\n",
       "count  119390.000000      119390.000000              119390.000000   \n",
       "mean        0.370416        2016.156554                  15.798241   \n",
       "min         0.000000        2015.000000                   1.000000   \n",
       "25%         0.000000        2016.000000                   8.000000   \n",
       "50%         0.000000        2016.000000                  16.000000   \n",
       "75%         1.000000        2017.000000                  23.000000   \n",
       "max         1.000000        2017.000000                  31.000000   \n",
       "std         0.482918           0.707476                   8.780829   \n",
       "\n",
       "              adults       children         babies  \\\n",
       "count  119390.000000  119386.000000  119390.000000   \n",
       "mean        1.856403       0.103890       0.007949   \n",
       "min         0.000000       0.000000       0.000000   \n",
       "25%         2.000000       0.000000       0.000000   \n",
       "50%         2.000000       0.000000       0.000000   \n",
       "75%         2.000000       0.000000       0.000000   \n",
       "max        55.000000      10.000000      10.000000   \n",
       "std         0.579261       0.398561       0.097436   \n",
       "\n",
       "             reservation_status_date  \n",
       "count                         119390  \n",
       "mean   2016-07-30 00:24:47.883407104  \n",
       "min              2014-10-17 00:00:00  \n",
       "25%              2016-02-01 00:00:00  \n",
       "50%              2016-08-07 00:00:00  \n",
       "75%              2017-02-08 00:00:00  \n",
       "max              2017-09-14 00:00:00  \n",
       "std                              NaN  "
      ]
     },
     "execution_count": 6,
     "metadata": {},
     "output_type": "execute_result"
    }
   ],
   "source": [
    "data.describe()"
   ]
  },
  {
   "cell_type": "code",
   "execution_count": 7,
   "id": "bd7927c4-6765-4958-a658-156780af9ea2",
   "metadata": {},
   "outputs": [
    {
     "name": "stdout",
     "output_type": "stream",
     "text": [
      "hotel                          0\n",
      "is_canceled                    0\n",
      "arrival_date_year              0\n",
      "arrival_date_month             0\n",
      "arrival_date_day_of_month      0\n",
      "adults                         0\n",
      "children                       4\n",
      "babies                         0\n",
      "country                      488\n",
      "reserved_room_type             0\n",
      "assigned_room_type             0\n",
      "reservation_status             0\n",
      "reservation_status_date        0\n",
      "Room_Status                    0\n",
      "guest_type                     0\n",
      "dtype: int64\n"
     ]
    }
   ],
   "source": [
    "print(data.isnull().sum())"
   ]
  },
  {
   "cell_type": "code",
   "execution_count": 35,
   "id": "444b9dbb-524b-401a-992a-009de99ebe1e",
   "metadata": {},
   "outputs": [
    {
     "name": "stdout",
     "output_type": "stream",
     "text": [
      "    EEID     Name Gender   Salary\n",
      "0  EMP01    Rohit      m      NaN\n",
      "1  EMP02      Raj    NaN  25000.0\n",
      "2  EMP03      NaN      m  27000.0\n",
      "3  EMP04   Vikash      f  99000.0\n",
      "4  EMP02    Vijay    NaN   7000.0\n",
      "5  EMP06  Vikrant      m      NaN\n",
      "6  EMP03      NaN      m  55000.0\n"
     ]
    }
   ],
   "source": [
    "data2=pd.read_excel(\"C:/Users/Lenovo/Downloads/Employee.xlsx\")\n",
    "print(data2)"
   ]
  },
  {
   "cell_type": "code",
   "execution_count": 9,
   "id": "ba47cdbd-c52e-48b1-b57e-0e48c178e3b4",
   "metadata": {},
   "outputs": [
    {
     "name": "stdout",
     "output_type": "stream",
     "text": [
      "2\n"
     ]
    }
   ],
   "source": [
    "print(data2[\"EEID\"].duplicated().sum())"
   ]
  },
  {
   "cell_type": "code",
   "execution_count": 10,
   "id": "57461310-a873-4dc3-ae8a-390bded27e86",
   "metadata": {},
   "outputs": [
    {
     "name": "stdout",
     "output_type": "stream",
     "text": [
      "    EEID     Name Gender   Salary\n",
      "0  EMP01    Rohit      m      NaN\n",
      "1  EMP02      Raj      m  25000.0\n",
      "2  EMP03      Raj      m  27000.0\n",
      "3  EMP04   Vikash      f  99000.0\n",
      "5  EMP06  Vikrant      m      NaN\n"
     ]
    }
   ],
   "source": [
    "print(data2.drop_duplicates(\"EEID\"))"
   ]
  },
  {
   "cell_type": "code",
   "execution_count": 11,
   "id": "307f8144-a61e-4cb0-8e13-f1967e510b61",
   "metadata": {},
   "outputs": [
    {
     "name": "stdout",
     "output_type": "stream",
     "text": [
      "EEID      0\n",
      "Name      1\n",
      "Gender    0\n",
      "Salary    2\n",
      "dtype: int64\n"
     ]
    }
   ],
   "source": [
    "print(data2.isnull().sum())"
   ]
  },
  {
   "cell_type": "code",
   "execution_count": 12,
   "id": "25f553d2-b3fd-473d-847f-d8a2d208c06d",
   "metadata": {},
   "outputs": [
    {
     "name": "stdout",
     "output_type": "stream",
     "text": [
      "    EEID    Name Gender   Salary\n",
      "1  EMP02     Raj      m  25000.0\n",
      "2  EMP03     Raj      m  27000.0\n",
      "3  EMP04  Vikash      f  99000.0\n",
      "4  EMP02   Vijay      f   7000.0\n"
     ]
    }
   ],
   "source": [
    "print(data2.dropna())"
   ]
  },
  {
   "cell_type": "code",
   "execution_count": 23,
   "id": "91b3d51c-07a8-4915-858b-641186fb4a7a",
   "metadata": {},
   "outputs": [
    {
     "name": "stdout",
     "output_type": "stream",
     "text": [
      "42600.0\n"
     ]
    }
   ],
   "source": [
    "print(data2[\"Salary\"].mean())"
   ]
  },
  {
   "cell_type": "code",
   "execution_count": 37,
   "id": "0ec66dce-2be9-4597-a5a3-d491613bf28f",
   "metadata": {},
   "outputs": [
    {
     "name": "stdout",
     "output_type": "stream",
     "text": [
      "    EEID     Name Gender   Salary\n",
      "0  EMP01    Rohit      m  42600.0\n",
      "1  EMP02      Raj    NaN  25000.0\n",
      "2  EMP03      NaN      m  27000.0\n",
      "3  EMP04   Vikash      f  99000.0\n",
      "4  EMP02    Vijay    NaN   7000.0\n",
      "5  EMP06  Vikrant      m  42600.0\n",
      "6  EMP03      NaN      m  55000.0\n"
     ]
    }
   ],
   "source": [
    "import numpy as np\n",
    "data2[\"Salary\"]=data2[\"Salary\"].replace(np.nan,42600)\n",
    "print(data2)"
   ]
  },
  {
   "cell_type": "code",
   "execution_count": 40,
   "id": "4e33bed8-b6ed-4dc6-85af-cecea37e44c1",
   "metadata": {},
   "outputs": [
    {
     "name": "stdout",
     "output_type": "stream",
     "text": [
      "    EEID     Name Gender   Salary\n",
      "0  EMP01    Rohit      m  42600.0\n",
      "1  EMP02      Raj      m  25000.0\n",
      "2  EMP03   Vikash      m  27000.0\n",
      "3  EMP04   Vikash      f  99000.0\n",
      "4  EMP02    Vijay      m   7000.0\n",
      "5  EMP06  Vikrant      m  42600.0\n",
      "6  EMP03      NaN      m  55000.0\n"
     ]
    }
   ],
   "source": [
    "print(data2.bfill())"
   ]
  },
  {
   "cell_type": "code",
   "execution_count": 41,
   "id": "1fec4588-ed41-4935-b0fe-70f616b292ec",
   "metadata": {},
   "outputs": [
    {
     "name": "stdout",
     "output_type": "stream",
     "text": [
      "    EEID     Name Gender   Salary\n",
      "0  EMP01    Rohit      m  42600.0\n",
      "1  EMP02      Raj      m  25000.0\n",
      "2  EMP03      Raj      m  27000.0\n",
      "3  EMP04   Vikash      f  99000.0\n",
      "4  EMP02    Vijay      f   7000.0\n",
      "5  EMP06  Vikrant      m  42600.0\n",
      "6  EMP03  Vikrant      m  55000.0\n"
     ]
    }
   ],
   "source": [
    "print(data2.ffill())"
   ]
  }
 ],
 "metadata": {
  "kernelspec": {
   "display_name": "Python 3 (ipykernel)",
   "language": "python",
   "name": "python3"
  },
  "language_info": {
   "codemirror_mode": {
    "name": "ipython",
    "version": 3
   },
   "file_extension": ".py",
   "mimetype": "text/x-python",
   "name": "python",
   "nbconvert_exporter": "python",
   "pygments_lexer": "ipython3",
   "version": "3.12.7"
  }
 },
 "nbformat": 4,
 "nbformat_minor": 5
}
